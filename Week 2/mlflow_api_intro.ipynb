{
 "cells": [
  {
   "cell_type": "code",
   "execution_count": 1,
   "id": "0b41343e-91ac-4ff7-b5ec-766fea1be84b",
   "metadata": {},
   "outputs": [],
   "source": [
    "from mlflow.tracking import MlflowClient\n",
    "\n",
    "MLFLOW_TRACKING_URI = \"sqlite:///mlflow.db\"\n",
    "client = MlflowClient(tracking_uri=MLFLOW_TRACKING_URI)"
   ]
  },
  {
   "cell_type": "code",
   "execution_count": 2,
   "id": "01cc8391-d88a-4ae0-9360-0da069ec7bac",
   "metadata": {},
   "outputs": [
    {
     "data": {
      "text/plain": [
       "[<Experiment: artifact_location='./mlruns/0', experiment_id='0', lifecycle_stage='active', name='Default', tags={}>,\n",
       " <Experiment: artifact_location='./mlruns/1', experiment_id='1', lifecycle_stage='active', name='nyc-greentaxi-trip-prediction', tags={}>]"
      ]
     },
     "execution_count": 2,
     "metadata": {},
     "output_type": "execute_result"
    }
   ],
   "source": [
    "client.list_experiments()"
   ]
  },
  {
   "cell_type": "markdown",
   "id": "3d400592-e7af-4983-b8c8-3b16f5828c6c",
   "metadata": {},
   "source": [
    "## Get the Top 5 runs of an experiment"
   ]
  },
  {
   "cell_type": "code",
   "execution_count": 18,
   "id": "47de21a1-dca7-490b-bc7e-1538edac223f",
   "metadata": {},
   "outputs": [],
   "source": [
    "from mlflow.entities import ViewType\n",
    "\n",
    "runs = client.search_runs(\n",
    "    experiment_ids ='1',\n",
    "    filter_string = \"metrics.rmse < 7\",\n",
    "    run_view_type = ViewType.ACTIVE_ONLY,\n",
    "    max_results=5,\n",
    "    order_by = [\"metrics.rmse ASC\"]\n",
    ")"
   ]
  },
  {
   "cell_type": "code",
   "execution_count": 19,
   "id": "eefc9e95-d87e-464f-8ccb-39adf2232b1d",
   "metadata": {},
   "outputs": [
    {
     "name": "stdout",
     "output_type": "stream",
     "text": [
      "Run id: 1f0e6ede61ca42aeb5824d483d0ccc6a, rmse: 6.3471\n",
      "Run id: 7305d65588ac4289ae3b5d3142b74a35, rmse: 6.3471\n",
      "Run id: 180e67d448e94e1096b860f0b266941f, rmse: 6.3471\n",
      "Run id: f8e4417824574d6aba41af08052c054a, rmse: 6.3513\n",
      "Run id: c63085561ffe4bdeb0303cc4422c9c8a, rmse: 6.3520\n"
     ]
    }
   ],
   "source": [
    "for run in runs:\n",
    "    print(f\"Run id: {run.info.run_id}, rmse: {run.data.metrics['rmse']:.4f}\")"
   ]
  },
  {
   "cell_type": "markdown",
   "id": "9e8c07e2-6103-4812-9075-8a0f90cfb8bd",
   "metadata": {},
   "source": [
    "## Load model (not neccesary to interact with the API)"
   ]
  },
  {
   "cell_type": "markdown",
   "id": "352e105c-2bd2-4015-bea2-418828f30bee",
   "metadata": {},
   "source": [
    "### Register a model"
   ]
  },
  {
   "cell_type": "code",
   "execution_count": 21,
   "id": "713818e7-9001-46e0-8d00-d84b25f3dc84",
   "metadata": {},
   "outputs": [],
   "source": [
    "import mlflow\n",
    "\n",
    "mlflow.set_tracking_uri(MLFLOW_TRACKING_URI)"
   ]
  },
  {
   "cell_type": "code",
   "execution_count": 22,
   "id": "73bc5d3f-77ea-4d04-b6c2-09cac8f76209",
   "metadata": {},
   "outputs": [
    {
     "name": "stderr",
     "output_type": "stream",
     "text": [
      "Registered model 'nyc-green-taxi-duration-regressor' already exists. Creating a new version of this model...\n",
      "2022/05/29 22:54:57 INFO mlflow.tracking._model_registry.client: Waiting up to 300 seconds for model version to finish creation.                     Model name: nyc-green-taxi-duration-regressor, version 3\n",
      "Created version '3' of model 'nyc-green-taxi-duration-regressor'.\n"
     ]
    },
    {
     "data": {
      "text/plain": [
       "<ModelVersion: creation_timestamp=1653857697746, current_stage='None', description=None, last_updated_timestamp=1653857697746, name='nyc-green-taxi-duration-regressor', run_id='1f0e6ede61ca42aeb5824d483d0ccc6a', run_link=None, source='./mlruns/1/1f0e6ede61ca42aeb5824d483d0ccc6a/artifacts/model', status='READY', status_message=None, tags={}, user_id=None, version=3>"
      ]
     },
     "execution_count": 22,
     "metadata": {},
     "output_type": "execute_result"
    }
   ],
   "source": [
    "run_id = \"1f0e6ede61ca42aeb5824d483d0ccc6a\"\n",
    "model_name = \"nyc-green-taxi-duration-regressor\"\n",
    "model_uri = f\"runs:/{run_id}/model\"\n",
    "mlflow.register_model(model_uri=model_uri, name=model_name)"
   ]
  },
  {
   "cell_type": "markdown",
   "id": "adee7b60-7d27-49b6-abe9-92a47fdc7b44",
   "metadata": {},
   "source": [
    "### Move the different model between the environments"
   ]
  },
  {
   "cell_type": "code",
   "execution_count": 28,
   "id": "c2b44c1d-1eed-45c9-9da1-9b9129450dee",
   "metadata": {},
   "outputs": [
    {
     "data": {
      "text/plain": [
       "[<RegisteredModel: creation_timestamp=1653857463649, description='', last_updated_timestamp=1653857780047, latest_versions=[<ModelVersion: creation_timestamp=1653857492745, current_stage='Staging', description='', last_updated_timestamp=1653857780047, name='nyc-green-taxi-duration-regressor', run_id='7305d65588ac4289ae3b5d3142b74a35', run_link='', source='./mlruns/1/7305d65588ac4289ae3b5d3142b74a35/artifacts/models_mlflow', status='READY', status_message=None, tags={}, user_id=None, version=2>,\n",
       "  <ModelVersion: creation_timestamp=1653857697746, current_stage='None', description=None, last_updated_timestamp=1653857697746, name='nyc-green-taxi-duration-regressor', run_id='1f0e6ede61ca42aeb5824d483d0ccc6a', run_link=None, source='./mlruns/1/1f0e6ede61ca42aeb5824d483d0ccc6a/artifacts/model', status='READY', status_message=None, tags={}, user_id=None, version=3>], name='nyc-green-taxi-duration-regressor', tags={}>]"
      ]
     },
     "execution_count": 28,
     "metadata": {},
     "output_type": "execute_result"
    }
   ],
   "source": [
    "client.list_registered_models()"
   ]
  },
  {
   "cell_type": "code",
   "execution_count": 31,
   "id": "5706d626-879d-426c-8b6b-9164b3e63cf9",
   "metadata": {},
   "outputs": [
    {
     "name": "stdout",
     "output_type": "stream",
     "text": [
      "Version: 2, Environment: Staging\n",
      "Version: 3, Environment: None\n"
     ]
    }
   ],
   "source": [
    "lates_versions = client.get_latest_versions(name=model_name)\n",
    "\n",
    "for version in lates_versions:\n",
    "    print(f\"Version: {version.version}, Environment: {version.current_stage}\")"
   ]
  },
  {
   "cell_type": "code",
   "execution_count": 41,
   "id": "3988f1d3-fc3b-4d4f-bde1-8f2816c29f3e",
   "metadata": {},
   "outputs": [
    {
     "data": {
      "text/plain": [
       "<ModelVersion: creation_timestamp=1653857697746, current_stage='Production', description='The model version 3 was transitioned to Production on 2022-05-29.', last_updated_timestamp=1653858598073, name='nyc-green-taxi-duration-regressor', run_id='1f0e6ede61ca42aeb5824d483d0ccc6a', run_link=None, source='./mlruns/1/1f0e6ede61ca42aeb5824d483d0ccc6a/artifacts/model', status='READY', status_message=None, tags={}, user_id=None, version=3>"
      ]
     },
     "execution_count": 41,
     "metadata": {},
     "output_type": "execute_result"
    }
   ],
   "source": [
    "model_version = 3\n",
    "env = \"Production\"\n",
    "client.transition_model_version_stage(\n",
    "    name=model_name,\n",
    "    version=version,\n",
    "    stage=env,\n",
    "    archive_existing_versions=False\n",
    ")"
   ]
  },
  {
   "cell_type": "code",
   "execution_count": 37,
   "id": "eed9b6d5-0950-4268-b4ff-6545c268409a",
   "metadata": {},
   "outputs": [
    {
     "data": {
      "text/plain": [
       "<ModelVersion: creation_timestamp=1653857697746, current_stage='Production', description='The model version 3 was transitioned to Production on 2022-05-29.', last_updated_timestamp=1653858547412, name='nyc-green-taxi-duration-regressor', run_id='1f0e6ede61ca42aeb5824d483d0ccc6a', run_link=None, source='./mlruns/1/1f0e6ede61ca42aeb5824d483d0ccc6a/artifacts/model', status='READY', status_message=None, tags={}, user_id=None, version=3>"
      ]
     },
     "execution_count": 37,
     "metadata": {},
     "output_type": "execute_result"
    }
   ],
   "source": [
    "from datetime import datetime\n",
    "\n",
    "date = datetime.today().date()\n",
    "\n",
    "client.update_model_version(\n",
    "    name = model_name,\n",
    "    version = model_version,\n",
    "    description = f\"The model version {model_version} was transitioned to {env} on {date}.\"\n",
    ")"
   ]
  },
  {
   "cell_type": "markdown",
   "id": "56126ccd-79e8-44ef-9854-4df32cd662bb",
   "metadata": {},
   "source": [
    "### Annotate model"
   ]
  },
  {
   "cell_type": "code",
   "execution_count": null,
   "id": "39deb5aa-696a-4776-9b84-bafa4f79a5ca",
   "metadata": {},
   "outputs": [],
   "source": []
  }
 ],
 "metadata": {
  "kernelspec": {
   "display_name": "Python 3 (ipykernel)",
   "language": "python",
   "name": "python3"
  },
  "language_info": {
   "codemirror_mode": {
    "name": "ipython",
    "version": 3
   },
   "file_extension": ".py",
   "mimetype": "text/x-python",
   "name": "python",
   "nbconvert_exporter": "python",
   "pygments_lexer": "ipython3",
   "version": "3.9.7"
  }
 },
 "nbformat": 4,
 "nbformat_minor": 5
}
