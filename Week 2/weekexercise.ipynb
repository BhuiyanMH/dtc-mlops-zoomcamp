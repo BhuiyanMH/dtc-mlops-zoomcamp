{
 "cells": [
  {
   "cell_type": "code",
   "execution_count": 1,
   "id": "c5a87abc-12cc-4eba-b7df-1b03f9702e4d",
   "metadata": {},
   "outputs": [
    {
     "name": "stdout",
     "output_type": "stream",
     "text": [
      "1.26.1\n"
     ]
    }
   ],
   "source": [
    "import mlflow\n",
    "print(mlflow.__version__)"
   ]
  },
  {
   "cell_type": "markdown",
   "id": "57ef8d8c-e96d-4f68-aef3-b5a582406f17",
   "metadata": {},
   "source": [
    "### Q2: 4"
   ]
  },
  {
   "cell_type": "markdown",
   "id": "f262b088-09b9-4627-959d-87844b58348d",
   "metadata": {},
   "source": [
    "### Q3: 17"
   ]
  },
  {
   "cell_type": "markdown",
   "id": "0eb62913-51de-4197-a104-bac70d7220ce",
   "metadata": {},
   "source": [
    "### Q4: default artifact root"
   ]
  },
  {
   "cell_type": "markdown",
   "id": "5feebd95-c7ed-4958-963b-d60fe063112a",
   "metadata": {},
   "source": [
    "### Q5: 6.628"
   ]
  },
  {
   "cell_type": "code",
   "execution_count": 6,
   "id": "75f480fa-16a2-492a-ae49-2196d31d7476",
   "metadata": {},
   "outputs": [],
   "source": [
    "### Q6: "
   ]
  },
  {
   "cell_type": "code",
   "execution_count": null,
   "id": "8942a48a-6314-45fc-87ca-cb796e52ed43",
   "metadata": {},
   "outputs": [],
   "source": [
    "import argparse\n",
    "import os\n",
    "import pickle\n",
    "\n",
    "import mlflow\n",
    "from hyperopt import hp, space_eval\n",
    "from hyperopt.pyll import scope\n",
    "from mlflow.entities import ViewType\n",
    "from mlflow.tracking import MlflowClient\n",
    "from sklearn.ensemble import RandomForestRegressor\n",
    "from sklearn.metrics import mean_squared_error\n",
    "\n",
    "HPO_EXPERIMENT_NAME = \"random-forest-hyperopt\"\n",
    "EXPERIMENT_NAME = \"random-forest-best-models\"\n",
    "\n",
    "mlflow.set_tracking_uri(\"http://127.0.0.1:5000\")\n",
    "mlflow.set_experiment(EXPERIMENT_NAME)\n",
    "mlflow.sklearn.autolog()\n",
    "\n",
    "SPACE = {\n",
    "    'max_depth': scope.int(hp.quniform('max_depth', 1, 20, 1)),\n",
    "    'n_estimators': scope.int(hp.quniform('n_estimators', 10, 50, 1)),\n",
    "    'min_samples_split': scope.int(hp.quniform('min_samples_split', 2, 10, 1)),\n",
    "    'min_samples_leaf': scope.int(hp.quniform('min_samples_leaf', 1, 4, 1)),\n",
    "    'random_state': 42\n",
    "}\n",
    "\n",
    "\n",
    "def load_pickle(filename):\n",
    "    with open(filename, \"rb\") as f_in:\n",
    "        return pickle.load(f_in)\n",
    "\n",
    "\n",
    "def train_and_log_model(data_path, params):\n",
    "    \"\"\"\n",
    "    This function read the datasets from the pickle objects\n",
    "    Run the hyperparameter optimization and log the rmse of validation and test\n",
    "    \n",
    "    \"\"\"\n",
    "    X_train, y_train = load_pickle(os.path.join(data_path, \"train.pkl\"))\n",
    "    X_valid, y_valid = load_pickle(os.path.join(data_path, \"valid.pkl\"))\n",
    "    X_test, y_test = load_pickle(os.path.join(data_path, \"test.pkl\"))\n",
    "\n",
    "    with mlflow.start_run():\n",
    "        params = space_eval(SPACE, params)\n",
    "        rf = RandomForestRegressor(**params)\n",
    "        rf.fit(X_train, y_train)\n",
    "\n",
    "        # evaluate model on the validation and test sets\n",
    "        valid_rmse = mean_squared_error(y_valid, rf.predict(X_valid), squared=False)\n",
    "        mlflow.log_metric(\"valid_rmse\", valid_rmse)\n",
    "        test_rmse = mean_squared_error(y_test, rf.predict(X_test), squared=False)\n",
    "        mlflow.log_metric(\"test_rmse\", test_rmse)\n",
    "\n",
    "\n",
    "def run(data_path, log_top):\n",
    "\n",
    "    client = MlflowClient()\n",
    "\n",
    "    # retrieve the top_n model runs and log the models to MLflow\n",
    "    experiment = client.get_experiment_by_name(HPO_EXPERIMENT_NAME)\n",
    "    runs = client.search_runs(\n",
    "        experiment_ids=experiment.experiment_id,\n",
    "        run_view_type=ViewType.ACTIVE_ONLY,\n",
    "        max_results=log_top,\n",
    "        order_by=[\"metrics.rmse ASC\"]\n",
    "    )\n",
    "    for run in runs:\n",
    "        train_and_log_model(data_path=data_path, params=run.data.params)\n",
    "\n",
    "    # select the model with the lowest test RMSE\n",
    "    experiment = client.get_experiment_by_name(EXPERIMENT_NAME)\n",
    "    best_run = client.search_runs(\n",
    "        experiment_ids=experiment.experiment_id,\n",
    "        run_view_type=ViewType.ACTIVE_ONLY,\n",
    "        max_results=log_top,\n",
    "        order_by=[\"metrics.test_rmse ASC\"]\n",
    "    )[0]\n",
    "\n",
    "    # register the best model\n",
    "    run_id = best_run.info.run_id\n",
    "    model_name = \"nyc-green-taxi-duration-regressor-hw\"\n",
    "    model_uri = f\"runs:/{run_id}/model\"\n",
    "    \n",
    "    mlflow.register_model(model_uri=model_uri, name=model_name)\n",
    "\n",
    "\n",
    "if __name__ == '__main__':\n",
    "\n",
    "    parser = argparse.ArgumentParser()\n",
    "    parser.add_argument(\n",
    "        \"--data_path\",\n",
    "        default=\"./output\",\n",
    "        help=\"the location where the processed NYC taxi trip data was saved.\"\n",
    "    )\n",
    "    parser.add_argument(\n",
    "        \"--top_n\",\n",
    "        default=5,\n",
    "        type=int,\n",
    "        help=\"the top 'top_n' models will be evaluated to decide which model to promote.\"\n",
    "    )\n",
    "    args = parser.parse_args()\n",
    "\n",
    "    run(args.data_path, args.top_n)\n"
   ]
  }
 ],
 "metadata": {
  "kernelspec": {
   "display_name": "Python 3 (ipykernel)",
   "language": "python",
   "name": "python3"
  },
  "language_info": {
   "codemirror_mode": {
    "name": "ipython",
    "version": 3
   },
   "file_extension": ".py",
   "mimetype": "text/x-python",
   "name": "python",
   "nbconvert_exporter": "python",
   "pygments_lexer": "ipython3",
   "version": "3.9.7"
  }
 },
 "nbformat": 4,
 "nbformat_minor": 5
}
